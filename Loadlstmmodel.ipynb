{
 "cells": [
  {
   "cell_type": "markdown",
   "id": "412971c5",
   "metadata": {},
   "source": [
    "# converting video to audio"
   ]
  },
  {
   "cell_type": "code",
   "execution_count": 6,
   "id": "21614440",
   "metadata": {},
   "outputs": [
    {
     "name": "stdout",
     "output_type": "stream",
     "text": [
      "MoviePy - Writing audio in transcribed_speech.wav\n"
     ]
    },
    {
     "name": "stderr",
     "output_type": "stream",
     "text": [
      "                                                                                                                       \r"
     ]
    },
    {
     "name": "stdout",
     "output_type": "stream",
     "text": [
      "MoviePy - Done.\n"
     ]
    }
   ],
   "source": [
    "import wave, math, contextlib\n",
    "import speech_recognition as sr\n",
    "from moviepy.editor import AudioFileClip\n",
    "transcribed_audio_file_name = \"transcribed_speech.wav\"\n",
    "zoom_video_file_name =r\"C:\\Users\\NEERAJ SINGH\\Desktop\\Major_project\\testing videos\\videoplayback.mp4\"\n",
    "audioclip = AudioFileClip(zoom_video_file_name)\n",
    "audioclip.write_audiofile(transcribed_audio_file_name)\n",
    "with contextlib.closing(wave.open(transcribed_audio_file_name,'r')) as f:\n",
    "    frames = f.getnframes()\n",
    "    rate = f.getframerate()\n",
    "    duration = frames / float(rate)\n",
    "total_duration = math.ceil(duration / 60)\n",
    "r = sr.Recognizer()\n",
    "for i in range(0, total_duration):\n",
    "    with sr.AudioFile(transcribed_audio_file_name) as source:\n",
    "        audio = r.record(source, offset=i*60, duration=60)\n",
    "    f = open(\"transcription.txt\", \"a\")\n",
    "    f.write(r.recognize_google(audio))\n",
    "    f.write(\" \")\n",
    "f.close()"
   ]
  },
  {
   "cell_type": "markdown",
   "id": "fad3eece",
   "metadata": {},
   "source": [
    "# taking input text from text file to python list ."
   ]
  },
  {
   "cell_type": "code",
   "execution_count": 7,
   "id": "018fbb96",
   "metadata": {},
   "outputs": [
    {
     "name": "stdout",
     "output_type": "stream",
     "text": [
      "[\"space agency the Indian Space Research Organisation of Maestro successfully launched its Earth observation satellite into Orbit along with your observation satellite EOS Rebel t4i source polar satellite launch Hue go as far as to others more f*** life into the orbit Maestro as described the street as a marvelous accomplishment the earth observation satellite launch marks maestros first mission of 2022 was launched at the motion for a stroll plans to conduct a 3 other missions this year including the much-anticipated launch of the Chandrayaan 3 to the rule that ki slbc points to work it was launched from Satish Dhawan Space Centre in Andhra pradesh's Sriharikota holiday the rocket injected the observations on the light you s04 into synchronous Orbit some 529 km above the earth the two other for clients which has been on which have been sent alongside the observation satellite is a precursor of a joint India Bhutan mission in a future Vivo 4 is a radar imaging satellite designed to provide high quality images on the all weather conditions the images of table then be used for agriculture Forestry soil moisture Lord marketing and more \"]\n"
     ]
    }
   ],
   "source": [
    "my_file = open(\"transcription.txt\", \"r\")\n",
    "  \n",
    "\n",
    "data = my_file.read()\n",
    "  \n",
    "\n",
    "text = data.replace('\\n', ' ').split(\".\")\n",
    "\n",
    "print(text)\n",
    "my_file.close()"
   ]
  },
  {
   "cell_type": "code",
   "execution_count": 8,
   "id": "7faf64d7",
   "metadata": {},
   "outputs": [
    {
     "name": "stdout",
     "output_type": "stream",
     "text": [
      "['AerialView']\n"
     ]
    }
   ],
   "source": [
    "from keras.preprocessing.text import Tokenizer\n",
    "from keras.preprocessing.sequence import pad_sequences\n",
    "from keras.models import load_model\n",
    "import numpy as np\n",
    "model=load_model(r\"C:\\Users\\NEERAJ SINGH\\Desktop\\Major_project\\lstm_model.h5\")\n",
    "n_most_common_words = 8000\n",
    "max_len = 130\n",
    "tokenizer = Tokenizer(num_words=n_most_common_words, filters='!\"#$%&()*+,-./:;<=>?@[\\]^_`{|}~', lower=True)\n",
    "seq = tokenizer.texts_to_sequences(text)\n",
    "padded = pad_sequences(seq, maxlen=max_len)\n",
    "pred = model.predict(padded)\n",
    "labels =  [\n",
    "                 \"AerialView\", \"AirPlane\", \"Animation\", \"Building\", \"CompositionFrame\", \n",
    "                 \"Crowd\", \"DisplayScreen\",\"Forest\", \"Garden\", \"Graphics\" , \n",
    "                 \"Helicopter\", \"Hospital\", \"IndoorControlRoom\" \"IndoorGeneric\", \"IndoorHome\",\n",
    "                 \"IndoorLab\", \"Interview\", \"Launch\", \"Logo\", \"Mountain\", \n",
    "                 \"OutdoorAntenna\", \"OutdoorGeneric\",\"OutdoorLaunchPad\",\"PersnolClosup\",\"Satellite\",\n",
    "                 \"Sky\", \"Speech\", \"Text\", \"Traffic\", \"Vihicle\"\n",
    "                ]\n",
    "out2=[]\n",
    "x=labels[np.argmax(pred)]\n",
    "out2.append(x)\n",
    "print(out2)"
   ]
  },
  {
   "cell_type": "code",
   "execution_count": null,
   "id": "f8481fd8",
   "metadata": {},
   "outputs": [],
   "source": []
  }
 ],
 "metadata": {
  "kernelspec": {
   "display_name": "Python 3 (ipykernel)",
   "language": "python",
   "name": "python3"
  },
  "language_info": {
   "codemirror_mode": {
    "name": "ipython",
    "version": 3
   },
   "file_extension": ".py",
   "mimetype": "text/x-python",
   "name": "python",
   "nbconvert_exporter": "python",
   "pygments_lexer": "ipython3",
   "version": "3.9.7"
  }
 },
 "nbformat": 4,
 "nbformat_minor": 5
}
